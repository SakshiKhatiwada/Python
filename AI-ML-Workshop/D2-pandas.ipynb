{
 "cells": [
  {
   "cell_type": "markdown",
   "id": "97a30fa4",
   "metadata": {},
   "source": [
    "### Building Pandas Dataframe\n"
   ]
  },
  {
   "cell_type": "code",
   "execution_count": 1,
   "id": "4675a5df",
   "metadata": {},
   "outputs": [],
   "source": [
    "import pandas as pd"
   ]
  },
  {
   "cell_type": "code",
   "execution_count": 16,
   "id": "169752eb",
   "metadata": {},
   "outputs": [
    {
     "name": "stdout",
     "output_type": "stream",
     "text": [
      "     Name  Age           City\n",
      "a   Alice   25       New York\n",
      "b     Ram   19       Lalitpur\n",
      "c  Sakshi   20  Mahendranagar\n",
      "d      Bi   20      Kathmandu\n"
     ]
    },
    {
     "data": {
      "text/html": [
       "<div>\n",
       "<style scoped>\n",
       "    .dataframe tbody tr th:only-of-type {\n",
       "        vertical-align: middle;\n",
       "    }\n",
       "\n",
       "    .dataframe tbody tr th {\n",
       "        vertical-align: top;\n",
       "    }\n",
       "\n",
       "    .dataframe thead th {\n",
       "        text-align: right;\n",
       "    }\n",
       "</style>\n",
       "<table border=\"1\" class=\"dataframe\">\n",
       "  <thead>\n",
       "    <tr style=\"text-align: right;\">\n",
       "      <th></th>\n",
       "      <th>Name</th>\n",
       "      <th>Age</th>\n",
       "      <th>City</th>\n",
       "    </tr>\n",
       "  </thead>\n",
       "  <tbody>\n",
       "    <tr>\n",
       "      <th>a</th>\n",
       "      <td>Alice</td>\n",
       "      <td>25</td>\n",
       "      <td>New York</td>\n",
       "    </tr>\n",
       "    <tr>\n",
       "      <th>b</th>\n",
       "      <td>Ram</td>\n",
       "      <td>19</td>\n",
       "      <td>Lalitpur</td>\n",
       "    </tr>\n",
       "    <tr>\n",
       "      <th>c</th>\n",
       "      <td>Sakshi</td>\n",
       "      <td>20</td>\n",
       "      <td>Mahendranagar</td>\n",
       "    </tr>\n",
       "    <tr>\n",
       "      <th>d</th>\n",
       "      <td>Bi</td>\n",
       "      <td>20</td>\n",
       "      <td>Kathmandu</td>\n",
       "    </tr>\n",
       "  </tbody>\n",
       "</table>\n",
       "</div>"
      ],
      "text/plain": [
       "     Name  Age           City\n",
       "a   Alice   25       New York\n",
       "b     Ram   19       Lalitpur\n",
       "c  Sakshi   20  Mahendranagar\n",
       "d      Bi   20      Kathmandu"
      ]
     },
     "execution_count": 16,
     "metadata": {},
     "output_type": "execute_result"
    }
   ],
   "source": [
    "data = {\n",
    "    \"Name\": [\"Alice\", \"Ram\", \"Sakshi\", \"Bi\"],\n",
    "    \"Age\": [25, 19, 20, 20],\n",
    "    \"City\": [\"New York\", \"Lalitpur\", \"Mahendranagar\", \"Kathmandu\"],\n",
    "}\n",
    "\n",
    "df = pd.DataFrame(data,index=['a','b','c','d'])\n",
    "print(df)\n",
    "df"
   ]
  },
  {
   "cell_type": "code",
   "execution_count": 6,
   "id": "0ab311e3",
   "metadata": {},
   "outputs": [
    {
     "name": "stdout",
     "output_type": "stream",
     "text": [
      "             Age\n",
      "count   4.000000\n",
      "mean   21.000000\n",
      "std     2.708013\n",
      "min    19.000000\n",
      "25%    19.750000\n",
      "50%    20.000000\n",
      "75%    21.250000\n",
      "max    25.000000\n"
     ]
    }
   ],
   "source": [
    "# df.info()\n",
    "print(df.describe())"
   ]
  },
  {
   "cell_type": "code",
   "execution_count": 10,
   "id": "fd434d82",
   "metadata": {},
   "outputs": [],
   "source": [
    "df.to_csv(\"demo.csv\", index=False)"
   ]
  },
  {
   "cell_type": "markdown",
   "id": "db9e7d4b",
   "metadata": {},
   "source": [
    "### <span style=\"color: #961e4e; font-weight: bold\">loc (location-based indexing)</span>\n"
   ]
  },
  {
   "cell_type": "code",
   "execution_count": 19,
   "id": "5a8a9916",
   "metadata": {},
   "outputs": [
    {
     "data": {
      "text/plain": [
       "Name    Sakshi\n",
       "Age         20\n",
       "Name: c, dtype: object"
      ]
     },
     "execution_count": 19,
     "metadata": {},
     "output_type": "execute_result"
    }
   ],
   "source": [
    "df.loc['c', [\"Name\", \"Age\"]]\n",
    "# ERR NameError = variable not defined"
   ]
  },
  {
   "cell_type": "markdown",
   "id": "0068e9d1",
   "metadata": {},
   "source": [
    "### <span style=\"color: #961e4e; font-weight: bold\">iloc (Integer location-based indexing )</span>"
   ]
  },
  {
   "cell_type": "code",
   "execution_count": 20,
   "id": "6407146f",
   "metadata": {},
   "outputs": [
    {
     "data": {
      "text/plain": [
       "Name       Alice\n",
       "Age           25\n",
       "City    New York\n",
       "Name: a, dtype: object"
      ]
     },
     "execution_count": 20,
     "metadata": {},
     "output_type": "execute_result"
    }
   ],
   "source": [
    "df.iloc[0]"
   ]
  },
  {
   "cell_type": "markdown",
   "id": "ee8420bf",
   "metadata": {},
   "source": [
    "### Data Filtering"
   ]
  },
  {
   "cell_type": "code",
   "execution_count": 23,
   "id": "d4d571d4",
   "metadata": {},
   "outputs": [
    {
     "data": {
      "text/html": [
       "<div>\n",
       "<style scoped>\n",
       "    .dataframe tbody tr th:only-of-type {\n",
       "        vertical-align: middle;\n",
       "    }\n",
       "\n",
       "    .dataframe tbody tr th {\n",
       "        vertical-align: top;\n",
       "    }\n",
       "\n",
       "    .dataframe thead th {\n",
       "        text-align: right;\n",
       "    }\n",
       "</style>\n",
       "<table border=\"1\" class=\"dataframe\">\n",
       "  <thead>\n",
       "    <tr style=\"text-align: right;\">\n",
       "      <th></th>\n",
       "      <th>Name</th>\n",
       "      <th>Age</th>\n",
       "      <th>City</th>\n",
       "    </tr>\n",
       "  </thead>\n",
       "  <tbody>\n",
       "    <tr>\n",
       "      <th>a</th>\n",
       "      <td>Alice</td>\n",
       "      <td>25</td>\n",
       "      <td>New York</td>\n",
       "    </tr>\n",
       "  </tbody>\n",
       "</table>\n",
       "</div>"
      ],
      "text/plain": [
       "    Name  Age      City\n",
       "a  Alice   25  New York"
      ]
     },
     "execution_count": 23,
     "metadata": {},
     "output_type": "execute_result"
    }
   ],
   "source": [
    "adults = df[df.Age>20]\n",
    "adults"
   ]
  }
 ],
 "metadata": {
  "kernelspec": {
   "display_name": ".venv",
   "language": "python",
   "name": "python3"
  },
  "language_info": {
   "codemirror_mode": {
    "name": "ipython",
    "version": 3
   },
   "file_extension": ".py",
   "mimetype": "text/x-python",
   "name": "python",
   "nbconvert_exporter": "python",
   "pygments_lexer": "ipython3",
   "version": "3.12.3"
  }
 },
 "nbformat": 4,
 "nbformat_minor": 5
}
