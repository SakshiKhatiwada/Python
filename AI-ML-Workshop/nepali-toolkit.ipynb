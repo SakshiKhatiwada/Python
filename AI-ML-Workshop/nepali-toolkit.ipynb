{
 "cells": [
  {
   "cell_type": "code",
   "execution_count": 5,
   "id": "b5080ade",
   "metadata": {},
   "outputs": [],
   "source": [
    "from nepali_toolkit.numbers import to_nepali_number, number_to_nepali_words"
   ]
  },
  {
   "cell_type": "code",
   "execution_count": 2,
   "id": "8019846c",
   "metadata": {},
   "outputs": [
    {
     "data": {
      "text/plain": [
       "'९८६८८०५२९३'"
      ]
     },
     "execution_count": 2,
     "metadata": {},
     "output_type": "execute_result"
    }
   ],
   "source": [
    "to_nepali_number(9868805293)"
   ]
  },
  {
   "cell_type": "code",
   "execution_count": 7,
   "id": "16d9dcb2",
   "metadata": {},
   "outputs": [
    {
     "data": {
      "text/plain": [
       "'सात करोड नब्बे लाख एघार हजार तीन सय चौंसठ्ठी'"
      ]
     },
     "execution_count": 7,
     "metadata": {},
     "output_type": "execute_result"
    }
   ],
   "source": [
    "number_to_nepali_words(79011364)"
   ]
  }
 ],
 "metadata": {
  "kernelspec": {
   "display_name": ".venv",
   "language": "python",
   "name": "python3"
  },
  "language_info": {
   "codemirror_mode": {
    "name": "ipython",
    "version": 3
   },
   "file_extension": ".py",
   "mimetype": "text/x-python",
   "name": "python",
   "nbconvert_exporter": "python",
   "pygments_lexer": "ipython3",
   "version": "3.12.3"
  }
 },
 "nbformat": 4,
 "nbformat_minor": 5
}
