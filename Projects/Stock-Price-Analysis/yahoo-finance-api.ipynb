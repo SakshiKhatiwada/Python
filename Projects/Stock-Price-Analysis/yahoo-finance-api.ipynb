{
 "cells": [
  {
   "cell_type": "markdown",
   "id": "a052e712",
   "metadata": {},
   "source": [
    "A data analysis project to track stock price trends using real-time financial data. Fetched stock market data from Yahoo Finance API, performed time-series analysis using Pandas, and visualized price trends, moving averages, and volatility using Matplotlib.\n",
    "Techs Used: Python, Pandas, NumPy, Matplotlib, Yahoo Finance API"
   ]
  },
  {
   "cell_type": "code",
   "execution_count": 11,
   "id": "ebe89fd7",
   "metadata": {},
   "outputs": [],
   "source": [
    "import numpy as np\n",
    "import pandas as pd\n",
    "import matplotlib.pyplot as plt"
   ]
  },
  {
   "cell_type": "code",
   "execution_count": 4,
   "id": "b1c97a44",
   "metadata": {},
   "outputs": [],
   "source": [
    "import yfinance as yf \n",
    "# installed in .venv\n",
    "# to activate .venc\\Scripts\\Activate"
   ]
  },
  {
   "cell_type": "code",
   "execution_count": null,
   "id": "7aa39a19",
   "metadata": {},
   "outputs": [],
   "source": [
    "aapl = yf.Ticker(\"AAPL\")\n",
    "# yf.Ticker is a function from the yfinance Python library, which lets you easily access financial data from Yahoo Finance.\n",
    "# yf.Ticker(\"AAPL\") creates a Ticker object for a specific stock (in this case, Apple Inc.), allowing you to access tons of useful info"
   ]
  },
  {
   "cell_type": "markdown",
   "id": "5dad972f",
   "metadata": {},
   "source": [
    "### Balance Sheet and Dividends"
   ]
  },
  {
   "cell_type": "code",
   "execution_count": null,
   "id": "2f2a3fae",
   "metadata": {},
   "outputs": [
    {
     "data": {
      "text/plain": [
       "Date\n",
       "1987-05-11 00:00:00-04:00    0.000536\n",
       "1987-08-10 00:00:00-04:00    0.000536\n",
       "1987-11-17 00:00:00-05:00    0.000714\n",
       "1988-02-12 00:00:00-05:00    0.000714\n",
       "1988-05-16 00:00:00-04:00    0.000714\n",
       "                               ...   \n",
       "2024-02-09 00:00:00-05:00    0.240000\n",
       "2024-05-10 00:00:00-04:00    0.250000\n",
       "2024-08-12 00:00:00-04:00    0.250000\n",
       "2024-11-08 00:00:00-05:00    0.250000\n",
       "2025-02-10 00:00:00-05:00    0.250000\n",
       "Name: Dividends, Length: 86, dtype: float64"
      ]
     },
     "execution_count": 12,
     "metadata": {},
     "output_type": "execute_result"
    }
   ],
   "source": [
    "# aapl.quarterly_balancesheet\n",
    "aapl.dividends"
   ]
  }
 ],
 "metadata": {
  "kernelspec": {
   "display_name": ".venv",
   "language": "python",
   "name": "python3"
  },
  "language_info": {
   "codemirror_mode": {
    "name": "ipython",
    "version": 3
   },
   "file_extension": ".py",
   "mimetype": "text/x-python",
   "name": "python",
   "nbconvert_exporter": "python",
   "pygments_lexer": "ipython3",
   "version": "3.13.2"
  }
 },
 "nbformat": 4,
 "nbformat_minor": 5
}
