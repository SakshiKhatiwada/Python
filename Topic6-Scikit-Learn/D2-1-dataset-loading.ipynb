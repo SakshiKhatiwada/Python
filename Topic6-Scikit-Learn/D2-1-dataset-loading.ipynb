{
 "cells": [
  {
   "cell_type": "markdown",
   "id": "f05a77c1",
   "metadata": {},
   "source": [
    "## Dataset Loading\n",
    "\n",
    "[tutorial source](https://www.tutorialspoint.com/scikit_learn/scikit_learn_modelling_process.htm)"
   ]
  }
 ],
 "metadata": {
  "language_info": {
   "name": "python"
  }
 },
 "nbformat": 4,
 "nbformat_minor": 5
}
