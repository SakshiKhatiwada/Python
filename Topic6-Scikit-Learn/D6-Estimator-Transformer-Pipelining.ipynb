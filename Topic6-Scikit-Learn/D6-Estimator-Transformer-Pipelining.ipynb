{
 "cells": [
  {
   "cell_type": "code",
   "execution_count": 1,
   "id": "84705523",
   "metadata": {},
   "outputs": [],
   "source": [
    "from sklearn.linear_model import LinearRegression\n",
    "import numpy as np"
   ]
  },
  {
   "cell_type": "markdown",
   "id": "e62ae40c",
   "metadata": {},
   "source": [
    "### Training the Estimator  \n",
    "Estimators learn from data. They have a <code>fit</code> method that takes training data (X) and target variables (y) as input and learns the underlying patterns in the data.  \n",
    "used for classification, regression and clustering"
   ]
  },
  {
   "cell_type": "code",
   "execution_count": 2,
   "id": "739988d3",
   "metadata": {},
   "outputs": [
    {
     "name": "stdout",
     "output_type": "stream",
     "text": [
      "intercept:  2.2\n",
      "coeff:  [0.6]\n"
     ]
    }
   ],
   "source": [
    "x = np.array([[1], [2], [3], [4], [5]])  # features\n",
    "y = np.array([2, 4, 5, 4, 5])  # target variables\n",
    "\n",
    "# x is 2d, y is 1d\n",
    "# linear regression estimator\n",
    "model = LinearRegression()\n",
    "\n",
    "# fit the model\n",
    "model.fit(x, y)\n",
    "\n",
    "print(\"intercept: \", model.intercept_)\n",
    "print(\"coeff: \", model.coef_)"
   ]
  },
  {
   "cell_type": "markdown",
   "id": "f80e06d7",
   "metadata": {},
   "source": [
    "#### Predicting now on new, unseen data"
   ]
  },
  {
   "cell_type": "code",
   "execution_count": 3,
   "id": "0a4973da",
   "metadata": {},
   "outputs": [
    {
     "data": {
      "text/plain": [
       "array([5.8])"
      ]
     },
     "execution_count": 3,
     "metadata": {},
     "output_type": "execute_result"
    }
   ],
   "source": [
    "x_new = np.array([[6]]) # still 2D\n",
    "y_pred = model.predict(x_new)\n",
    "y_pred # gives an numpy array\n"
   ]
  },
  {
   "cell_type": "markdown",
   "id": "c3954250",
   "metadata": {},
   "source": [
    " Many estimators also have a score method that evaluates the performance of the model on a given dataset X and corresponding target variables y\n",
    "\n",
    "[!NOTE]  \n",
    "for classification models, the score method typically returns the accuracy, while for regression models, it returns the R-squared value."
   ]
  },
  {
   "cell_type": "code",
   "execution_count": 4,
   "id": "9fd908c9",
   "metadata": {},
   "outputs": [
    {
     "name": "stdout",
     "output_type": "stream",
     "text": [
      "r^2 =  0.6000000000000001\n"
     ]
    }
   ],
   "source": [
    "score = model.score(x, y)\n",
    "print(\"r^2 = \", score)\n",
    "# 0.6000000000000001 how well the linear regression model fits the data"
   ]
  },
  {
   "cell_type": "markdown",
   "id": "b539be2c",
   "metadata": {},
   "source": [
    "### Transformers  \n",
    "Transformers are used to preprocess and transform data.  \n",
    "Implement two main methods \n",
    "<code>fit</code> and <code>transform</code>\n"
   ]
  },
  {
   "cell_type": "markdown",
   "id": "829f6b8b",
   "metadata": {},
   "source": [
    ">  Similar to estimators, the fit method of a transformer learns parameters from the data. However, unlike estimators, transformers **don't** necessarily need a target variable y. For example, a StandardScaler learns the mean and standard deviation of each feature in the data."
   ]
  },
  {
   "cell_type": "code",
   "execution_count": 5,
   "id": "b633744a",
   "metadata": {},
   "outputs": [],
   "source": [
    "from sklearn.preprocessing import StandardScaler"
   ]
  },
  {
   "cell_type": "code",
   "execution_count": 6,
   "id": "6904a4b6",
   "metadata": {},
   "outputs": [
    {
     "name": "stdout",
     "output_type": "stream",
     "text": [
      "mean:  [3. 4.]\n",
      "scale:  [1.63299316 1.63299316]\n"
     ]
    }
   ],
   "source": [
    "x = np.array(\n",
    "    [\n",
    "        [1, 2],\n",
    "        [3, 4],\n",
    "        [5, 6],\n",
    "    ]\n",
    ")\n",
    "\n",
    "# creating StandardScaler transformer\n",
    "scaler = StandardScaler()\n",
    "\n",
    "# fit the transformer\n",
    "scaler.fit(X=x) # calculates and stores mean and sd in columns, just analyzes, doesn't change the data\n",
    "print(\"mean: \", scaler.mean_)\n",
    "print(\"scale: \", scaler.scale_) # it's sd, column wise"
   ]
  },
  {
   "cell_type": "code",
   "execution_count": 7,
   "id": "5c3e8f1c",
   "metadata": {},
   "outputs": [
    {
     "name": "stdout",
     "output_type": "stream",
     "text": [
      "transformed:  [[-1.22474487 -1.22474487]\n",
      " [ 0.          0.        ]\n",
      " [ 1.22474487  1.22474487]]\n"
     ]
    }
   ],
   "source": [
    "x_transformed = scaler.transform(x)\n",
    "print(\"transformed: \",x_transformed)\n",
    "# NOTE transform means applying the scaling, i.e. new_value = (original_value - mean)/standard_deviation"
   ]
  },
  {
   "cell_type": "code",
   "execution_count": 8,
   "id": "f6f37cad",
   "metadata": {},
   "outputs": [
    {
     "name": "stdout",
     "output_type": "stream",
     "text": [
      "Transformed data: \n",
      " [[-1.22474487 -1.22474487]\n",
      " [ 0.          0.        ]\n",
      " [ 1.22474487  1.22474487]]\n"
     ]
    }
   ],
   "source": [
    "# fit_transfer method: does fit and transform in a single command\n",
    "x_transformed = scaler.fit_transform(x)\n",
    "print(\"Transformed data: \\n\", x_transformed)"
   ]
  },
  {
   "cell_type": "markdown",
   "id": "67d5723c",
   "metadata": {},
   "source": [
    "### Pipelines  \n",
    "powerful tool for chaining together multiple estimators and transformers into a single workflow,  \n",
    "consists of a sequence of steps, where each step is either a transformer or an estimator. The final step in a pipeline is typically an estimator."
   ]
  },
  {
   "cell_type": "code",
   "execution_count": 9,
   "id": "3001d70e",
   "metadata": {},
   "outputs": [],
   "source": [
    "from sklearn.pipeline import Pipeline\n",
    "from sklearn.linear_model import LinearRegression\n",
    "from sklearn.preprocessing import StandardScaler"
   ]
  },
  {
   "cell_type": "code",
   "execution_count": null,
   "id": "d2318b56",
   "metadata": {},
   "outputs": [
    {
     "data": {
      "text/plain": [
       "array([12.])"
      ]
     },
     "execution_count": 12,
     "metadata": {},
     "output_type": "execute_result"
    }
   ],
   "source": [
    "x = np.array([[1, 2], [3, 4], [5, 6]])\n",
    "y = np.array([3, 6, 9])\n",
    "# recall regression, 1 dependent var(y) and 2 independent variables (x1, x2)\n",
    "\n",
    "# create a pipeline - chains together multiple steps\n",
    "# each step = (name, transformer/estimator), executed in order when called .fit() and .predict()\n",
    "pipeline = Pipeline(\n",
    "    [\n",
    "        (\"scaler\", StandardScaler()),\n",
    "        (\"linear_regression\", LinearRegression()),\n",
    "    ]\n",
    ")\n",
    "\n",
    "# fitting pipeline to the data:\n",
    "pipeline.fit(x,y)\n",
    "\n",
    "# predict on new data:\n",
    "X_new = np.array([[7,8]])\n",
    "y_pred = pipeline.predict(X_new)\n",
    "y_pred"
   ]
  }
 ],
 "metadata": {
  "kernelspec": {
   "display_name": "sklearn-env",
   "language": "python",
   "name": "python3"
  },
  "language_info": {
   "codemirror_mode": {
    "name": "ipython",
    "version": 3
   },
   "file_extension": ".py",
   "mimetype": "text/x-python",
   "name": "python",
   "nbconvert_exporter": "python",
   "pygments_lexer": "ipython3",
   "version": "3.12.3"
  }
 },
 "nbformat": 4,
 "nbformat_minor": 5
}
