{
 "cells": [
  {
   "cell_type": "markdown",
   "id": "ddd574df",
   "metadata": {},
   "source": [
    "### Introduction to Supervised Learning\n",
    "predict outcomes based on labeled data  \n",
    "Classification-> involves training a model to assign data points to predefined categories or classes.\n",
    "\n",
    "Classification predicts categories (e.g., spam or not spam).\n",
    "\n",
    "Regression predicts continuous values (e.g., price of a house)."
   ]
  }
 ],
 "metadata": {
  "language_info": {
   "name": "python"
  }
 },
 "nbformat": 4,
 "nbformat_minor": 5
}
