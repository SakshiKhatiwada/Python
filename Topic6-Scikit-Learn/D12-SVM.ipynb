{
 "cells": [
  {
   "cell_type": "code",
   "execution_count": 2,
   "id": "985658f5",
   "metadata": {},
   "outputs": [],
   "source": [
    "from sklearn.model_selection import train_test_split\n",
    "from sklearn.datasets import load_iris\n",
    "from sklearn.svm import SVC\n",
    "from sklearn.metrics import accuracy_score"
   ]
  },
  {
   "cell_type": "code",
   "execution_count": null,
   "id": "0194ea24",
   "metadata": {},
   "outputs": [
    {
     "name": "stdout",
     "output_type": "stream",
     "text": [
      "accuracy with linear kernel:  0.9555555555555556\n",
      "accuracy with rbf kernel:  0.9111111111111111\n",
      "accuracy with sigmoid kernel:  0.3111111111111111\n"
     ]
    }
   ],
   "source": [
    "# load iris\n",
    "iris = load_iris()\n",
    "\n",
    "X, y = iris.data, iris.target\n",
    "\n",
    "# split the data\n",
    "X_train, X_test, y_train, y_test = train_test_split(\n",
    "    X, y, test_size=0.3, random_state=21\n",
    ")\n",
    "\n",
    "# creating SVM (Support Vector Machine) classifier with linear kernel\n",
    "svm_classifier = SVC(kernel=\"linear\", C=1.0)\n",
    "svm_classifier.fit(X_train, y_train)\n",
    "\n",
    "y_pred = svm_classifier.predict(X_test)\n",
    "\n",
    "accuracy = accuracy_score(y_test, y_pred)\n",
    "print(\"accuracy with linear kernel: \", accuracy)  # 95.5%\n",
    "\n",
    "# with RBF(Radial Basis Function) kernel\n",
    "# INFO gamma = 'scale' => 1/(no. of features * variance of X) This is smart, 'auto' => 1/no. of features This is Dumb but Fast\n",
    "svm_classifier = SVC(kernel=\"rbf\", C=1.0, gamma=\"scale\")\n",
    "svm_classifier.fit(X_train, y_train)\n",
    "y_pred = svm_classifier.predict(X_test)\n",
    "accuracy = accuracy_score(y_test, y_pred)\n",
    "print(\n",
    "    \"accuracy with rbf kernel: \", accuracy\n",
    ")  # 91.1%, accuracy is less than linear kernel=> data is linearly separable. RBF tries to bend and twist decision boundaries. If data is simple, RBF overfits → memorizes noise → test accuracy drops.\n",
    "\n",
    "# with sigmoid kernel\n",
    "svm_classifier = SVC(kernel=\"sigmoid\", C=1.0)\n",
    "svm_classifier.fit(X_train, y_train)\n",
    "y_pred = svm_classifier.predict(X_test)\n",
    "accuracy = accuracy_score(y_test, y_pred)\n",
    "print(\n",
    "    \"accuracy with sigmoid kernel: \", accuracy\n",
    ")  # 31.1%, not good at complex boundaries, Unless working on very specific problems (e.g., probabilistic models, graph embeddings, weird research setups), AVOID sigmoid kernels for classification."
   ]
  }
 ],
 "metadata": {
  "kernelspec": {
   "display_name": "sklearn-env",
   "language": "python",
   "name": "python3"
  },
  "language_info": {
   "codemirror_mode": {
    "name": "ipython",
    "version": 3
   },
   "file_extension": ".py",
   "mimetype": "text/x-python",
   "name": "python",
   "nbconvert_exporter": "python",
   "pygments_lexer": "ipython3",
   "version": "3.12.3"
  }
 },
 "nbformat": 4,
 "nbformat_minor": 5
}
