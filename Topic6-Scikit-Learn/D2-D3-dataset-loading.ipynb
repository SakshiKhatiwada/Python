{
 "cells": [
  {
   "cell_type": "markdown",
   "id": "f05a77c1",
   "metadata": {},
   "source": [
    "## Dataset Loading\n",
    "\n",
    "The variables of data are called its *features*\n",
    "*Feature matrix* − It is the collection of features, in case there are more than one.\n",
    "*Feature Names*-  It is the list of all the names of the features\n",
    "\n",
    "*Response* − It is the output variable that basically depends upon the feature variables.\n",
    "*Target Names* − It represent the possible values taken by a response vector.\n",
    "\n",
    "[tutorial source](https://www.tutorialspoint.com/scikit_learn/scikit_learn_modelling_process.htm)"
   ]
  },
  {
   "cell_type": "code",
   "execution_count": 1,
   "id": "219ce15c",
   "metadata": {},
   "outputs": [],
   "source": [
    "from sklearn.datasets import load_iris"
   ]
  },
  {
   "cell_type": "markdown",
   "id": "17d7fcf2",
   "metadata": {},
   "source": [
    "> Scikit-learn have few example datasets like iris and digits for classification and the Boston house prices for regression."
   ]
  },
  {
   "cell_type": "code",
   "execution_count": 2,
   "id": "301b3d39",
   "metadata": {},
   "outputs": [
    {
     "name": "stdout",
     "output_type": "stream",
     "text": [
      "Features Names:  ['sepal length (cm)', 'sepal width (cm)', 'petal length (cm)', 'petal width (cm)']\n",
      "Target Names:  ['setosa' 'versicolor' 'virginica']\n",
      "x first 10 rows\n",
      " [[5.1 3.5 1.4 0.2]\n",
      " [4.9 3.  1.4 0.2]\n",
      " [4.7 3.2 1.3 0.2]\n",
      " [4.6 3.1 1.5 0.2]\n",
      " [5.  3.6 1.4 0.2]\n",
      " [5.4 3.9 1.7 0.4]\n",
      " [4.6 3.4 1.4 0.3]\n",
      " [5.  3.4 1.5 0.2]\n",
      " [4.4 2.9 1.4 0.2]\n",
      " [4.9 3.1 1.5 0.1]]\n",
      "y first 10 rows\n",
      " [0 0 0 0 0 0 0 0 0 0]\n"
     ]
    }
   ],
   "source": [
    "iris_flower = load_iris()\n",
    "x = iris_flower.data # features: sepal length and width, petal length and width, 150 data, 150 x 4 matrix\n",
    "y = iris_flower.target # class: setosa, versicolor, virginica\n",
    "feature_names = iris_flower.feature_names\n",
    "target_names = iris_flower.target_names\n",
    "print(\"Features Names: \", feature_names)\n",
    "print(\"Target Names: \", target_names)\n",
    "print(\"x first 10 rows\\n\", x[:10])\n",
    "print(\"y first 10 rows\\n\", y[:10])"
   ]
  },
  {
   "cell_type": "markdown",
   "id": "d824d529",
   "metadata": {},
   "source": [
    "### Splitting the dataset\n",
    "To check the accuracy of our model, we can split the dataset into two pieces-a **training set** and a **testing set.**"
   ]
  },
  {
   "cell_type": "code",
   "execution_count": 3,
   "id": "fd07f6dc",
   "metadata": {},
   "outputs": [],
   "source": [
    "from sklearn.model_selection import train_test_split"
   ]
  },
  {
   "cell_type": "code",
   "execution_count": 4,
   "id": "bdad65b8",
   "metadata": {},
   "outputs": [
    {
     "name": "stdout",
     "output_type": "stream",
     "text": [
      "(105, 4)\n",
      "(45, 4)\n",
      "(105,)\n",
      "(45,)\n"
     ]
    }
   ],
   "source": [
    "x_train, x_test, y_train, y_test = train_test_split(x, y, test_size=0.3, random_state=1)\n",
    "# x is a feature matrix\n",
    "# y is a response vector\n",
    "# test_size - ratio of the test data to the total given data\n",
    "# 150 rows * 0.3 = 45 rows in this case\n",
    "# random_state=1 - It is used to guarantee that the split will always be the same. This is useful in the situations where you want reproducible results, useful when debugging.\n",
    "print(x_train.shape)\n",
    "print(x_test.shape)\n",
    "print(y_train.shape)\n",
    "print(y_test.shape)\n",
    "\n",
    "#NOTE Training data to learn patterns, Testing data to check accuracy"
   ]
  },
  {
   "cell_type": "markdown",
   "id": "5e2b3d19",
   "metadata": {},
   "source": [
    "### Training the Model"
   ]
  },
  {
   "cell_type": "code",
   "execution_count": 5,
   "id": "205e6d97",
   "metadata": {},
   "outputs": [],
   "source": [
    "from sklearn.neighbors import KNeighborsClassifier\n",
    "\n",
    "# KNeighborsClassifier is a machine learning model from scikit-learn. It helps you classify new data based on similarity with already labeled data."
   ]
  },
  {
   "cell_type": "code",
   "execution_count": 6,
   "id": "05ee7c71",
   "metadata": {},
   "outputs": [
    {
     "data": {
      "text/plain": [
       "array([1])"
      ]
     },
     "execution_count": 6,
     "metadata": {},
     "output_type": "execute_result"
    }
   ],
   "source": [
    "model = KNeighborsClassifier(n_neighbors=3)  # looks at 3 neighbors\n",
    "model.fit(x_train, y_train)  # train from training data, model fitting\n",
    "\n",
    "# now model predicting\n",
    "# model.predict([[5.1, 3.5, 1.4, 0.2]]) # new flower data\n",
    "# o/p: array([0]) = class Setosa\n",
    "model.predict([[2.7, 2.3, 3.3, 2.8]]) # versicolor"
   ]
  },
  {
   "cell_type": "markdown",
   "id": "4d631999",
   "metadata": {},
   "source": [
    "##### Where do we use testing data then?\n",
    "\n",
    "x_test to predict, y_test to check if it's right"
   ]
  },
  {
   "cell_type": "code",
   "execution_count": 7,
   "id": "b564f4ed",
   "metadata": {},
   "outputs": [],
   "source": [
    "from sklearn.metrics import accuracy_score"
   ]
  },
  {
   "cell_type": "code",
   "execution_count": 8,
   "id": "1a58c349",
   "metadata": {},
   "outputs": [
    {
     "name": "stdout",
     "output_type": "stream",
     "text": [
      "Model's Accuracy: 0.9777777777777777\n"
     ]
    }
   ],
   "source": [
    "predictions = model.predict(x_test)\n",
    "accuracy = accuracy_score(y_test, predictions)\n",
    "\n",
    "print(\"Model's Accuracy:\", accuracy)  # Model's Accuracy: 0.9777777777777777"
   ]
  }
 ],
 "metadata": {
  "kernelspec": {
   "display_name": "scikit-venv",
   "language": "python",
   "name": "python3"
  },
  "language_info": {
   "codemirror_mode": {
    "name": "ipython",
    "version": 3
   },
   "file_extension": ".py",
   "mimetype": "text/x-python",
   "name": "python",
   "nbconvert_exporter": "python",
   "pygments_lexer": "ipython3",
   "version": "3.13.2"
  }
 },
 "nbformat": 4,
 "nbformat_minor": 5
}
