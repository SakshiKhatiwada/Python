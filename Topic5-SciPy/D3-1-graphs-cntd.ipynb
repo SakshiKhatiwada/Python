{
 "cells": [
  {
   "cell_type": "code",
   "execution_count": 8,
   "id": "84aa2940",
   "metadata": {},
   "outputs": [],
   "source": [
    "import numpy as np\n",
    "from scipy.sparse.csgraph import floyd_warshall\n",
    "from scipy.sparse import csr_matrix\n",
    "\n",
    "from scipy.sparse.csgraph import bellman_ford\n",
    "\n",
    "from scipy.sparse.csgraph import depth_first_order, breadth_first_order\n",
    "\n",
    "# csgraph = compressed sparse graph"
   ]
  },
  {
   "cell_type": "markdown",
   "id": "115da285",
   "metadata": {},
   "source": [
    "### Floyd_Warshall\n",
    "shortest path between all pairs of elements"
   ]
  },
  {
   "cell_type": "code",
   "execution_count": 3,
   "id": "1c1b18b0",
   "metadata": {},
   "outputs": [
    {
     "name": "stdout",
     "output_type": "stream",
     "text": [
      "(array([[0., 1., 2.],\n",
      "       [1., 0., 3.],\n",
      "       [2., 3., 0.]]), array([[-9999,     0,     0],\n",
      "       [    1, -9999,     0],\n",
      "       [    2,     0, -9999]], dtype=int32))\n"
     ]
    }
   ],
   "source": [
    "arr = np.array([[0, 1, 2], [1, 0, 0], [2, 0, 0]])\n",
    "newarr = csr_matrix(arr)\n",
    "\n",
    "print(floyd_warshall(newarr, return_predecessors=True))"
   ]
  },
  {
   "cell_type": "markdown",
   "id": "7970e0a3",
   "metadata": {},
   "source": [
    "### Bellman Ford\n",
    "shortest path btwn all pairs, handles -ve weights as well"
   ]
  },
  {
   "cell_type": "code",
   "execution_count": 7,
   "id": "521dcf0c",
   "metadata": {},
   "outputs": [
    {
     "name": "stdout",
     "output_type": "stream",
     "text": [
      "(array([[0., 1., 2.],\n",
      "       [1., 0., 3.],\n",
      "       [2., 3., 0.]]), array([[-9999,     0,     0],\n",
      "       [    1, -9999,     0],\n",
      "       [    2,     0, -9999]], dtype=int32))\n"
     ]
    }
   ],
   "source": [
    "array = csr_matrix(np.array([\n",
    "    [0,-1,2],\n",
    "    [1,0,0],\n",
    "    [2,0,0]\n",
    "]))\n",
    "\n",
    "print(bellman_ford(newarr, return_predecessors=True))\n",
    "# print(bellman_ford(newarr, return_predecessors=True, indices=0)) #INFO calculates from only that node"
   ]
  },
  {
   "cell_type": "markdown",
   "id": "e9de74f6",
   "metadata": {},
   "source": [
    "### Depth First Order and Breadth First Order\n",
    "\n",
    "returns a depth first and breadth first traversal from a node"
   ]
  },
  {
   "cell_type": "code",
   "execution_count": 11,
   "id": "9ea67578",
   "metadata": {},
   "outputs": [
    {
     "name": "stdout",
     "output_type": "stream",
     "text": [
      "(array([1, 0, 3, 2], dtype=int32), array([    1, -9999,     1,     0], dtype=int32))\n",
      "(array([1, 0, 2, 3], dtype=int32), array([    1, -9999,     1,     1], dtype=int32))\n"
     ]
    }
   ],
   "source": [
    "arr1 = csr_matrix(\n",
    "    np.array(\n",
    "        [\n",
    "            [0, 1, 0, 1],\n",
    "            [1, 1, 1, 1],\n",
    "            [2, 1, 1, 0],\n",
    "            [0, 1, 0, 1],\n",
    "        ]\n",
    "    )\n",
    ")\n",
    "\n",
    "print(depth_first_order(arr1, 1))\n",
    "# depth_first_order(csgraph, i_start, directed=True, return_predecessors=True)\n",
    "# o/p = [1, 0, 3, 2], nodes\n",
    "\n",
    "print(breadth_first_order(arr1, 1))"
   ]
  }
 ],
 "metadata": {
  "kernelspec": {
   "display_name": ".venv",
   "language": "python",
   "name": "python3"
  },
  "language_info": {
   "codemirror_mode": {
    "name": "ipython",
    "version": 3
   },
   "file_extension": ".py",
   "mimetype": "text/x-python",
   "name": "python",
   "nbconvert_exporter": "python",
   "pygments_lexer": "ipython3",
   "version": "3.13.2"
  }
 },
 "nbformat": 4,
 "nbformat_minor": 5
}
