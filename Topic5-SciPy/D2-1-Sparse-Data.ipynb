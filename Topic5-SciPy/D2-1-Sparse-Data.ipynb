{
 "cells": [
  {
   "cell_type": "markdown",
   "id": "b01a217b",
   "metadata": {},
   "source": [
    "Sparse Data: is a data set where most of the item values are zero.\n",
    "\n",
    "Dense Array: is the opposite of a sparse array: most of the values are not zero.\n",
    "\n",
    "use cases: In scientific computing, when we are dealing with partial derivatives in linear algebra we will come across sparse data."
   ]
  },
  {
   "cell_type": "code",
   "execution_count": null,
   "id": "1c082daf",
   "metadata": {},
   "outputs": [],
   "source": [
    "import scipy\n",
    "# import sparse from scipy #ERR 😆, I didn't know\n",
    "from scipy import sparse"
   ]
  },
  {
   "cell_type": "markdown",
   "id": "6a6befd2",
   "metadata": {},
   "source": [
    "There are primarily two types of sparse matrices that we use:\n",
    "\n",
    "**CSC** - Compressed Sparse Column. For efficient arithmetic, fast column slicing.\n",
    "\n",
    "**CSR** - Compressed Sparse Row. For fast row slicing, faster matrix vector products"
   ]
  },
  {
   "cell_type": "code",
   "execution_count": 4,
   "id": "dda53c8d",
   "metadata": {},
   "outputs": [],
   "source": [
    "import numpy as np\n",
    "from scipy.sparse import csr_matrix"
   ]
  },
  {
   "cell_type": "code",
   "execution_count": 12,
   "id": "bfc8c13e",
   "metadata": {},
   "outputs": [
    {
     "name": "stdout",
     "output_type": "stream",
     "text": [
      "csr:  <Compressed Sparse Row sparse matrix of dtype 'int64'\n",
      "\twith 3 stored elements and shape (1, 9)>\n",
      "  Coords\tValues\n",
      "  (0, 5)\t1\n",
      "  (0, 6)\t1\n",
      "  (0, 8)\t2\n"
     ]
    }
   ],
   "source": [
    "arr = np.array([0, 0, 0, 0, 0, 1, 1, 0, 2]\n",
    "               )\n",
    "print(\"csr: \", csr_matrix(arr))\n"
   ]
  },
  {
   "cell_type": "code",
   "execution_count": 19,
   "id": "29d9f309",
   "metadata": {},
   "outputs": [
    {
     "name": "stdout",
     "output_type": "stream",
     "text": [
      "data  [1 1 2]\n",
      "zeros  3\n"
     ]
    }
   ],
   "source": [
    "arr = np.array([[0, 0, 0], [0, 0, 1], [1, 0, 2]])\n",
    "print(\"data \", csr_matrix(arr).data)\n",
    "\n",
    "print(\"zeros \", csr_matrix(arr).count_nonzero()) # functionwa"
   ]
  },
  {
   "cell_type": "code",
   "execution_count": 22,
   "id": "406b8480",
   "metadata": {},
   "outputs": [
    {
     "name": "stdout",
     "output_type": "stream",
     "text": [
      "<Compressed Sparse Row sparse matrix of dtype 'int64'\n",
      "\twith 3 stored elements and shape (3, 3)>\n",
      "  Coords\tValues\n",
      "  (1, 2)\t1\n",
      "  (2, 0)\t1\n",
      "  (2, 2)\t2\n"
     ]
    }
   ],
   "source": [
    "mat = csr_matrix(arr)\n",
    "mat.eliminate_zeros()\n",
    "\n",
    "print(mat)\n",
    "\n",
    "# eliminating duplicates\n",
    "# arr2 = np.array([[0, 0, 0], [0, 0, 1], [1, 0, 2], [3, 1, 2], [1, 0, 3]])\n",
    "# mat2 = csr_matrix(arr2)\n",
    "# mat2.sum_duplicates()\n",
    "# print(mat2)\n",
    "#INFO - didn't show much difference"
   ]
  },
  {
   "cell_type": "code",
   "execution_count": null,
   "id": "c7a62848",
   "metadata": {},
   "outputs": [
    {
     "name": "stdout",
     "output_type": "stream",
     "text": [
      "mat:  [[ 0  0  0]\n",
      " [ 0  0 30]]\n",
      "after:  [[ 0  0  0]\n",
      " [ 0  0 30]]\n"
     ]
    }
   ],
   "source": [
    "# eliminating duplicates\n",
    "from scipy.sparse import coo_matrix\n",
    "\n",
    "data = [10, 20]\n",
    "row = [1, 1]\n",
    "col = [2, 2]\n",
    "\n",
    "mat = coo_matrix((data, (row, col))).tocsr()\n",
    "print(\"mat: \", mat.toarray())\n",
    "mat.sum_duplicates()\n",
    "print(\"after: \", mat.toarray())\n",
    "\n",
    "# NOTE it's already adding when the coordinate positions are same"
   ]
  }
 ],
 "metadata": {
  "kernelspec": {
   "display_name": ".venv",
   "language": "python",
   "name": "python3"
  },
  "language_info": {
   "codemirror_mode": {
    "name": "ipython",
    "version": 3
   },
   "file_extension": ".py",
   "mimetype": "text/x-python",
   "name": "python",
   "nbconvert_exporter": "python",
   "pygments_lexer": "ipython3",
   "version": "3.13.2"
  }
 },
 "nbformat": 4,
 "nbformat_minor": 5
}
