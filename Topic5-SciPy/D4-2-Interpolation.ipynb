{
 "cells": [
  {
   "cell_type": "markdown",
   "id": "f7454c15",
   "metadata": {},
   "source": [
    "## Interpolation\n",
    "Interpolation is a method for generating points between given points.\n",
    "Interpolation has many usage, in Machine Learning we often deal with missing data in a dataset, interpolation is often used to substitute those values.\n",
    "\n",
    "This method of filling values is called imputation."
   ]
  },
  {
   "cell_type": "code",
   "execution_count": null,
   "id": "9e64859b",
   "metadata": {
    "vscode": {
     "languageId": "plaintext"
    }
   },
   "outputs": [],
   "source": []
  }
 ],
 "metadata": {
  "language_info": {
   "name": "python"
  }
 },
 "nbformat": 4,
 "nbformat_minor": 5
}
