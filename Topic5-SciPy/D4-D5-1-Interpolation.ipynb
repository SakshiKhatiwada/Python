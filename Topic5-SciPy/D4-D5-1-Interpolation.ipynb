{
 "cells": [
  {
   "cell_type": "markdown",
   "id": "f7454c15",
   "metadata": {},
   "source": [
    "## Interpolation\n",
    "Interpolation is a method for generating points between given points.\n",
    "Interpolation has many usage, in Machine Learning we often deal with missing data in a dataset, interpolation is often used to substitute those values.\n",
    "\n",
    "This method of filling values is called imputation."
   ]
  },
  {
   "cell_type": "code",
   "execution_count": 2,
   "id": "9e64859b",
   "metadata": {},
   "outputs": [],
   "source": [
    "from scipy.interpolate import interp1d\n",
    "import numpy as np"
   ]
  },
  {
   "cell_type": "code",
   "execution_count": 3,
   "id": "091ad9ce",
   "metadata": {},
   "outputs": [],
   "source": [
    "x = np.arange(10)\n",
    "y = 2*x + 5"
   ]
  },
  {
   "cell_type": "code",
   "execution_count": 5,
   "id": "fcb30485",
   "metadata": {},
   "outputs": [],
   "source": [
    "interpolate_func = interp1d(x, y) # returns a func using x and y values, and now can be called for new x values and gives new corresponding y values"
   ]
  },
  {
   "cell_type": "code",
   "execution_count": null,
   "id": "516de119",
   "metadata": {},
   "outputs": [
    {
     "data": {
      "text/plain": [
       "array([13., 14., 15., 16., 17., 18., 19., 20., 21., 22.])"
      ]
     },
     "execution_count": 8,
     "metadata": {},
     "output_type": "execute_result"
    }
   ],
   "source": [
    "newarr = interpolate_func(np.arange(4,9,0.5)) #NOTE - can take only values between the range of original x array\n",
    "newarr"
   ]
  }
 ],
 "metadata": {
  "kernelspec": {
   "display_name": ".venv",
   "language": "python",
   "name": "python3"
  },
  "language_info": {
   "codemirror_mode": {
    "name": "ipython",
    "version": 3
   },
   "file_extension": ".py",
   "mimetype": "text/x-python",
   "name": "python",
   "nbconvert_exporter": "python",
   "pygments_lexer": "ipython3",
   "version": "3.13.2"
  }
 },
 "nbformat": 4,
 "nbformat_minor": 5
}
