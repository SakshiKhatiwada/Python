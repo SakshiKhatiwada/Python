{
 "cells": [
  {
   "cell_type": "markdown",
   "id": "27003c41",
   "metadata": {},
   "source": [
    "# Scipy\n",
    "a scientific computation library that uses NumPy underneath."
   ]
  },
  {
   "cell_type": "code",
   "execution_count": 6,
   "id": "c7b058b1",
   "metadata": {},
   "outputs": [],
   "source": [
    "from scipy import constants"
   ]
  },
  {
   "cell_type": "code",
   "execution_count": 3,
   "id": "4913e116",
   "metadata": {},
   "outputs": [
    {
     "name": "stdout",
     "output_type": "stream",
     "text": [
      "0.001\n"
     ]
    }
   ],
   "source": [
    "print (constants.liter) # how many cubic meters are in 1 liter\n",
    "#INFO - 1l in m^3"
   ]
  },
  {
   "cell_type": "code",
   "execution_count": null,
   "id": "ea7d8d9f",
   "metadata": {},
   "outputs": [
    {
     "name": "stdout",
     "output_type": "stream",
     "text": [
      "1.15.2\n"
     ]
    }
   ],
   "source": [
    "# to check its version\n",
    "import scipy\n",
    "print(scipy.__version__) # current- 1.15.2\n",
    "\n"
   ]
  },
  {
   "cell_type": "markdown",
   "id": "89058e52",
   "metadata": {},
   "source": [
    "## Constants in SciPy"
   ]
  },
  {
   "cell_type": "code",
   "execution_count": 11,
   "id": "d7e1f767",
   "metadata": {},
   "outputs": [
    {
     "name": "stdout",
     "output_type": "stream",
     "text": [
      "3.141592653589793\n",
      "['Avogadro', 'Boltzmann', 'Btu', 'Btu_IT', 'Btu_th', 'ConstantWarning', 'G', 'Julian_year', 'N_A', 'Planck', 'R', 'Rydberg', 'Stefan_Boltzmann', 'Wien', '__all__', '__builtins__', '__cached__', '__doc__', '__file__', '__loader__', '__name__', '__package__', '__path__', '__spec__', '_codata', '_constants', '_obsolete_constants', 'acre', 'alpha', 'angstrom', 'arcmin', 'arcminute', 'arcsec', 'arcsecond', 'astronomical_unit', 'atm', 'atmosphere', 'atomic_mass', 'atto', 'au', 'bar', 'barrel', 'bbl', 'blob', 'c', 'calorie', 'calorie_IT', 'calorie_th', 'carat', 'centi', 'codata', 'constants', 'convert_temperature', 'day', 'deci', 'degree', 'degree_Fahrenheit', 'deka', 'dyn', 'dyne', 'e', 'eV', 'electron_mass', 'electron_volt', 'elementary_charge', 'epsilon_0', 'erg', 'exa', 'exbi', 'femto', 'fermi', 'find', 'fine_structure', 'fluid_ounce', 'fluid_ounce_US', 'fluid_ounce_imp', 'foot', 'g', 'gallon', 'gallon_US', 'gallon_imp', 'gas_constant', 'gibi', 'giga', 'golden', 'golden_ratio', 'grain', 'gram', 'gravitational_constant', 'h', 'hbar', 'hectare', 'hecto', 'horsepower', 'hour', 'hp', 'inch', 'k', 'kgf', 'kibi', 'kilo', 'kilogram_force', 'kmh', 'knot', 'lambda2nu', 'lb', 'lbf', 'light_year', 'liter', 'litre', 'long_ton', 'm_e', 'm_n', 'm_p', 'm_u', 'mach', 'mebi', 'mega', 'metric_ton', 'micro', 'micron', 'mil', 'mile', 'milli', 'minute', 'mmHg', 'mph', 'mu_0', 'nano', 'nautical_mile', 'neutron_mass', 'nu2lambda', 'ounce', 'oz', 'parsec', 'pebi', 'peta', 'physical_constants', 'pi', 'pico', 'point', 'pound', 'pound_force', 'precision', 'proton_mass', 'psi', 'pt', 'quecto', 'quetta', 'ronna', 'ronto', 'short_ton', 'sigma', 'slinch', 'slug', 'speed_of_light', 'speed_of_sound', 'stone', 'survey_foot', 'survey_mile', 'tebi', 'tera', 'test', 'ton_TNT', 'torr', 'troy_ounce', 'troy_pound', 'u', 'unit', 'value', 'week', 'yard', 'year', 'yobi', 'yocto', 'yotta', 'zebi', 'zepto', 'zero_Celsius', 'zetta']\n"
     ]
    }
   ],
   "source": [
    "print(constants.pi)\n",
    "\n",
    "#NOTE - to see all the constants\n",
    "print(dir(constants))"
   ]
  },
  {
   "cell_type": "markdown",
   "id": "8d103424",
   "metadata": {},
   "source": [
    "### Metric (SI) Prefixes:"
   ]
  },
  {
   "cell_type": "code",
   "execution_count": 24,
   "id": "439d9b21",
   "metadata": {},
   "outputs": [
    {
     "name": "stdout",
     "output_type": "stream",
     "text": [
      "1000.0\n",
      "0.01\n",
      "0.001\n",
      "0.30479999999999996\n",
      "0.0254\n",
      "1024\n",
      "1048576\n",
      "0.001\n",
      "1.66053906892e-27\n",
      "0.017453292519943295\n",
      "4.84813681109536e-06\n",
      "60.0\n",
      "31557600.0\n",
      "101325.0\n",
      "101325.0\n"
     ]
    }
   ],
   "source": [
    "# Length in meter\n",
    "print(constants.kilo)\n",
    "print(constants.centi)\n",
    "print(constants.milli)\n",
    "print(constants.foot)\n",
    "print(constants.inch)\n",
    "\n",
    "# Binary Prefixes in bytes\n",
    "print(constants.kibi)\n",
    "print(constants.mebi)\n",
    "\n",
    "# Mass in kg\n",
    "print(constants.gram)  # 0.001\n",
    "print(constants.atomic_mass)  # 0.001\n",
    "\n",
    "# Angle in radians\n",
    "print(constants.degree)\n",
    "print(constants.arcsec)\n",
    "\n",
    "# Time in seconds\n",
    "print(constants.minute)\n",
    "print(constants.Julian_year)\n",
    "\n",
    "# Pressure in Pascals\n",
    "print(constants.atmosphere)\n",
    "print(constants.atm)"
   ]
  },
  {
   "cell_type": "code",
   "execution_count": 33,
   "id": "51b101b2",
   "metadata": {},
   "outputs": [
    {
     "name": "stdout",
     "output_type": "stream",
     "text": [
      "4046.8564223999992\n",
      "0.001\n",
      "0.0037854117839999997\n",
      "0.2777777777777778\n",
      "273.15\n",
      "0.5555555555555556\n",
      "4.184\n",
      "745.6998715822701\n",
      "1e-05\n"
     ]
    }
   ],
   "source": [
    "# Area in square meters\n",
    "print(constants.acre)\n",
    "\n",
    "# Volume in cubic meters\n",
    "print(constants.liter)\n",
    "print(constants.gallon)\n",
    "\n",
    "# Speed in meters per sec\n",
    "print(constants.kmh)\n",
    "\n",
    "# Temperature in Kelvin\n",
    "print(constants.zero_Celsius)\n",
    "print(constants.degree_Fahrenheit)\n",
    "\n",
    "# Energy in joules\n",
    "print(constants.calorie)\n",
    "\n",
    "# Power in Watts\n",
    "print(constants.horsepower)\n",
    "\n",
    "# Force in Newton\n",
    "print(constants.dyne)"
   ]
  }
 ],
 "metadata": {
  "kernelspec": {
   "display_name": ".venv",
   "language": "python",
   "name": "python3"
  },
  "language_info": {
   "codemirror_mode": {
    "name": "ipython",
    "version": 3
   },
   "file_extension": ".py",
   "mimetype": "text/x-python",
   "name": "python",
   "nbconvert_exporter": "python",
   "pygments_lexer": "ipython3",
   "version": "3.13.2"
  }
 },
 "nbformat": 4,
 "nbformat_minor": 5
}
