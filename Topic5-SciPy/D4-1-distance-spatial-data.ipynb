{
 "cells": [
  {
   "cell_type": "code",
   "execution_count": 1,
   "id": "34624dda",
   "metadata": {},
   "outputs": [],
   "source": [
    "import numpy as np\n",
    "import matplotlib.pyplot as plt"
   ]
  },
  {
   "cell_type": "markdown",
   "id": "b8dcb7ee",
   "metadata": {},
   "source": [
    "## Distance Matrix"
   ]
  },
  {
   "cell_type": "code",
   "execution_count": 7,
   "id": "d6ca1c3d",
   "metadata": {},
   "outputs": [],
   "source": [
    "from scipy.spatial.distance import euclidean\n",
    "from scipy.spatial.distance import cityblock, cosine,hamming"
   ]
  },
  {
   "cell_type": "markdown",
   "id": "64ce0cb3",
   "metadata": {},
   "source": [
    "### Euclidean Distance"
   ]
  },
  {
   "cell_type": "code",
   "execution_count": 3,
   "id": "9b1b3572",
   "metadata": {},
   "outputs": [
    {
     "name": "stdout",
     "output_type": "stream",
     "text": [
      "3.1622776601683795\n"
     ]
    }
   ],
   "source": [
    "p1 = (11, 0)\n",
    "p2 = (12, 3)\n",
    "\n",
    "result = euclidean(p1, p2)  # root((12-11)^2 + (3-0)^2)\n",
    "print(result)  # 3.1622776601683795"
   ]
  },
  {
   "cell_type": "markdown",
   "id": "c892a2bf",
   "metadata": {},
   "source": [
    "### Cityblock or Manhattan Distance\n",
    "Is the distance computed using 4 degrees of movement.\n",
    "\n",
    "E.g. we can only move: up, down, right, or left, not diagonally."
   ]
  },
  {
   "cell_type": "code",
   "execution_count": 4,
   "id": "dc533d3f",
   "metadata": {},
   "outputs": [
    {
     "name": "stdout",
     "output_type": "stream",
     "text": [
      "4\n"
     ]
    }
   ],
   "source": [
    "print(cityblock(p1, p2))  # 4"
   ]
  },
  {
   "cell_type": "markdown",
   "id": "7e62a968",
   "metadata": {},
   "source": [
    "### Cosine Distance\n",
    "Is the value of cosine angle between the two points A and B.\n",
    "\n",
    "cosine_similarity= A⋅B / ∣∣A∣∣×∣∣B∣∣\n",
    "\n",
    "cosine_distance = 1 − cosine_similarity"
   ]
  },
  {
   "cell_type": "code",
   "execution_count": null,
   "id": "a92dc12b",
   "metadata": {},
   "outputs": [
    {
     "name": "stdout",
     "output_type": "stream",
     "text": [
      "0.029857499854668124\n"
     ]
    }
   ],
   "source": [
    "print(cosine(p1, p2))  # 0.029857499854668124"
   ]
  },
  {
   "cell_type": "markdown",
   "id": "ba149a81",
   "metadata": {},
   "source": [
    "### Hamming Distance\n",
    "Is the proportion of bits where two bits are different."
   ]
  },
  {
   "cell_type": "code",
   "execution_count": 9,
   "id": "547dd387",
   "metadata": {},
   "outputs": [
    {
     "name": "stdout",
     "output_type": "stream",
     "text": [
      "0.6666666666666666\n"
     ]
    }
   ],
   "source": [
    "p1 = (True, False, True)\n",
    "p2 = (False,True, True)\n",
    "print(hamming(p1,p2)) # 2 out of three corresponding bits are different i.e. 67%"
   ]
  }
 ],
 "metadata": {
  "kernelspec": {
   "display_name": ".venv",
   "language": "python",
   "name": "python3"
  },
  "language_info": {
   "codemirror_mode": {
    "name": "ipython",
    "version": 3
   },
   "file_extension": ".py",
   "mimetype": "text/x-python",
   "name": "python",
   "nbconvert_exporter": "python",
   "pygments_lexer": "ipython3",
   "version": "3.13.2"
  }
 },
 "nbformat": 4,
 "nbformat_minor": 5
}
