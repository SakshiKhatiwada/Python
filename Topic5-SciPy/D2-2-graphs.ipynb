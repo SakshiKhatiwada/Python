{
 "cells": [
  {
   "cell_type": "code",
   "execution_count": 4,
   "id": "062a5de3",
   "metadata": {},
   "outputs": [],
   "source": [
    "import numpy as np\n",
    "from scipy.sparse import csr_matrix\n",
    "from scipy.sparse.csgraph import connected_components"
   ]
  },
  {
   "cell_type": "code",
   "execution_count": null,
   "id": "74b68afd",
   "metadata": {},
   "outputs": [
    {
     "name": "stdout",
     "output_type": "stream",
     "text": [
      "(1, array([0, 0, 0], dtype=int32))\n"
     ]
    }
   ],
   "source": [
    "# INFO - connected_components()\n",
    "\n",
    "arr = np.array([[0, 1, 2], [1, 0, 0], [2, 0, 0]])\n",
    "newarr = csr_matrix(arr)\n",
    "# print(connected_components(newarr))\n",
    "\n",
    "n_comp, labels = connected_components(newarr) # NOTE returns number of connected components and their label i.e. which component they belong to.\n",
    "\n",
    "#INFO - node 0 is connected to node 1 and 2. So, they all form 1 components. All belongs to component 0\n",
    "# O/P: (1, array([0, 0, 0], dtype=int32))"
   ]
  },
  {
   "cell_type": "code",
   "execution_count": null,
   "id": "95189d96",
   "metadata": {},
   "outputs": [
    {
     "name": "stdout",
     "output_type": "stream",
     "text": [
      "(array([1., 0., 3.]), array([    1, -9999,     0], dtype=int32))\n"
     ]
    }
   ],
   "source": [
    "# SECTION Dijkstra\n",
    "\n",
    "from scipy.sparse.csgraph import dijkstra\n",
    "\n",
    "a = np.array([[0, 1, 2], [1, 0, 0], [2, 0, 0]])\n",
    "newarr = csr_matrix(a)\n",
    "print(dijkstra(newarr, return_predecessors=True, indices=1))\n",
    "# indices = from which source\n",
    "# return_predecessors = gives shortest previous path\n",
    "# returns a tuple (distances, predecessors)\n",
    "# (array([1., 0., 3.]), array([    1, -9999,     0], dtype=int32))\n",
    "# first one is distance\n",
    "# predecessor array:  array([    1, -9999,     0], dtype=int32) 1 means from node 1, start node -9999, to node 2, it came from node 0"
   ]
  }
 ],
 "metadata": {
  "kernelspec": {
   "display_name": ".venv",
   "language": "python",
   "name": "python3"
  },
  "language_info": {
   "codemirror_mode": {
    "name": "ipython",
    "version": 3
   },
   "file_extension": ".py",
   "mimetype": "text/x-python",
   "name": "python",
   "nbconvert_exporter": "python",
   "pygments_lexer": "ipython3",
   "version": "3.13.2"
  }
 },
 "nbformat": 4,
 "nbformat_minor": 5
}
