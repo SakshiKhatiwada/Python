{
 "cells": [
  {
   "cell_type": "code",
   "execution_count": 1,
   "id": "bef138f8",
   "metadata": {},
   "outputs": [],
   "source": [
    "import numpy as np"
   ]
  },
  {
   "cell_type": "code",
   "execution_count": 15,
   "id": "68fd7ec7",
   "metadata": {},
   "outputs": [],
   "source": [
    "from scipy.stats import ttest_ind # t-test, independent sample\n",
    "from scipy.stats import kstest, describe, skew, kurtosis, normaltest"
   ]
  },
  {
   "cell_type": "markdown",
   "id": "82f636cd",
   "metadata": {},
   "source": [
    "### T-test\n",
    "T-tests are used to determine if there is significant deference between means of two variables and lets us know if they belong to the same distribution.\n",
    "- two tailed test"
   ]
  },
  {
   "cell_type": "code",
   "execution_count": 7,
   "id": "3ebf4763",
   "metadata": {},
   "outputs": [
    {
     "data": {
      "text/plain": [
       "np.float64(0.6572136048304145)"
      ]
     },
     "execution_count": 7,
     "metadata": {},
     "output_type": "execute_result"
    }
   ],
   "source": [
    "v1 = np.random.normal(size=100)\n",
    "v2 = np.random.normal(size=100)\n",
    "\n",
    "# result = ttest_ind(v1,v2)\n",
    "result = ttest_ind(v1,v2).pvalue # if we want p value only\n",
    "result #INFO p-value <= alpha => null hypothesis rejected"
   ]
  },
  {
   "cell_type": "markdown",
   "id": "6a29122b",
   "metadata": {},
   "source": [
    "### KS test\n",
    "KS test is used to check if given values follow a distribution.\n",
    "\n",
    "The function takes the value to be tested, and the CDF as two parameters.\n",
    "\n",
    "* can be both one tailed or two tailed, but default is two-tailed"
   ]
  },
  {
   "cell_type": "code",
   "execution_count": null,
   "id": "45c17145",
   "metadata": {},
   "outputs": [],
   "source": [
    "#NOTE A CDF can be either a string or a callable function that returns the probability."
   ]
  },
  {
   "cell_type": "code",
   "execution_count": 11,
   "id": "ef71c2f9",
   "metadata": {},
   "outputs": [
    {
     "data": {
      "text/plain": [
       "KstestResult(statistic=np.float64(0.07319757185620845), pvalue=np.float64(0.6306769310890263), statistic_location=np.float64(0.5627504045614907), statistic_sign=np.int8(-1))"
      ]
     },
     "execution_count": 11,
     "metadata": {},
     "output_type": "execute_result"
    }
   ],
   "source": [
    "v = np.random.normal(size=100)\n",
    "\n",
    "res = kstest(v,\"norm\")\n",
    "res"
   ]
  },
  {
   "cell_type": "markdown",
   "id": "614c1777",
   "metadata": {},
   "source": [
    "> Statistical Description of Data\n",
    "\n",
    "In order to see a summary of values in an array, we can use the describe() function.\n",
    "\n",
    "It returns the following description:\n",
    "\n",
    "* number of observations (nobs)\n",
    "* minimum and maximum values = minmax\n",
    "* mean\n",
    "* variance\n",
    "* skewness\n",
    "* kurtosis"
   ]
  },
  {
   "cell_type": "code",
   "execution_count": 13,
   "id": "3f875ac2",
   "metadata": {},
   "outputs": [
    {
     "data": {
      "text/plain": [
       "DescribeResult(nobs=100, minmax=(np.float64(-2.193227256348864), np.float64(2.2123874923020557)), mean=np.float64(0.03529476771026581), variance=np.float64(0.9213041251506116), skewness=np.float64(-0.14382998637391042), kurtosis=np.float64(-0.3754505369063281))"
      ]
     },
     "execution_count": 13,
     "metadata": {},
     "output_type": "execute_result"
    }
   ],
   "source": [
    "description = describe(v)\n",
    "description"
   ]
  },
  {
   "cell_type": "markdown",
   "id": "885172f7",
   "metadata": {},
   "source": [
    "### Normality Test (Skewness and Kurtosis)"
   ]
  },
  {
   "cell_type": "code",
   "execution_count": 19,
   "id": "9ff53f7c",
   "metadata": {},
   "outputs": [
    {
     "name": "stdout",
     "output_type": "stream",
     "text": [
      "skewness -0.3594909763573894\n",
      "kurtosis 0.21908894709839277\n",
      "normality test:  NormaltestResult(statistic=np.float64(2.9076280850225316), pvalue=np.float64(0.23367733101374114))\n"
     ]
    }
   ],
   "source": [
    "d = np.random.normal(size=100)\n",
    "\n",
    "\"\"\"\n",
    "Skewness:\n",
    "A measure of symmetry in data.\n",
    "For normal distributions it is 0.\n",
    "If it is negative, it means the data is skewed left.\n",
    "If it is positive it means the data is skewed right.\n",
    "\n",
    "Kurtosis:\n",
    "Kurtosis:\n",
    "A measure of whether the data is heavy or lightly tailed to a normal distribution.\n",
    "Positive kurtosis means heavy tailed.\n",
    "Negative kurtosis means lightly tailed\n",
    "\n",
    "\"heavy-tailed\" refers to a probability distribution where the probability of extreme values (both very high and very low) is significantly higher than in a light-tailed distribution,\n",
    "\"\"\"\n",
    "\n",
    "print(\"skewness\", skew(d))\n",
    "print(\"kurtosis\", kurtosis(d))\n",
    "\n",
    "print(\"normality test: \", normaltest(d))\n"
   ]
  }
 ],
 "metadata": {
  "kernelspec": {
   "display_name": ".venv",
   "language": "python",
   "name": "python3"
  },
  "language_info": {
   "codemirror_mode": {
    "name": "ipython",
    "version": 3
   },
   "file_extension": ".py",
   "mimetype": "text/x-python",
   "name": "python",
   "nbconvert_exporter": "python",
   "pygments_lexer": "ipython3",
   "version": "3.13.2"
  }
 },
 "nbformat": 4,
 "nbformat_minor": 5
}
