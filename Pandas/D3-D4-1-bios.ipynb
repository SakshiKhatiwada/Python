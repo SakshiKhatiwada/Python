{
 "cells": [
  {
   "cell_type": "code",
   "execution_count": 42,
   "metadata": {},
   "outputs": [],
   "source": [
    "import pandas as pd"
   ]
  },
  {
   "cell_type": "code",
   "execution_count": 43,
   "metadata": {},
   "outputs": [],
   "source": [
    "bios = pd.read_csv('complete-pandas-tutorial/data/bios.csv')"
   ]
  },
  {
   "cell_type": "code",
   "execution_count": 44,
   "metadata": {},
   "outputs": [],
   "source": [
    "bios_new = bios.copy()\n"
   ]
  },
  {
   "cell_type": "code",
   "execution_count": 45,
   "metadata": {},
   "outputs": [],
   "source": [
    "# bios[\"born_date\"].str[:4]\n",
    "# bios.head()\n",
    "\n",
    "bios_new['first_name'] = bios_new['name'].str.split(\" \").str[0]\n",
    "# bios_new"
   ]
  },
  {
   "cell_type": "markdown",
   "metadata": {},
   "source": [
    "# Day4"
   ]
  },
  {
   "cell_type": "code",
   "execution_count": 46,
   "metadata": {},
   "outputs": [
    {
     "name": "stdout",
     "output_type": "stream",
     "text": [
      "<class 'pandas.core.frame.DataFrame'>\n",
      "RangeIndex: 145500 entries, 0 to 145499\n",
      "Data columns (total 12 columns):\n",
      " #   Column         Non-Null Count   Dtype         \n",
      "---  ------         --------------   -----         \n",
      " 0   athlete_id     145500 non-null  int64         \n",
      " 1   name           145500 non-null  object        \n",
      " 2   born_date      143693 non-null  object        \n",
      " 3   born_city      110908 non-null  object        \n",
      " 4   born_region    110908 non-null  object        \n",
      " 5   born_country   110908 non-null  object        \n",
      " 6   NOC            145499 non-null  object        \n",
      " 7   height_cm      106651 non-null  float64       \n",
      " 8   weight_kg      102070 non-null  float64       \n",
      " 9   died_date      33940 non-null   object        \n",
      " 10  first_name     145500 non-null  object        \n",
      " 11  born_datetime  143693 non-null  datetime64[ns]\n",
      "dtypes: datetime64[ns](1), float64(2), int64(1), object(8)\n",
      "memory usage: 13.3+ MB\n"
     ]
    }
   ],
   "source": [
    "# bios.info()\n",
    "# bios_new.query(\"first_name == 'Keith'\")\n",
    "bios_new[\"born_datetime\"] = pd.to_datetime(bios_new[\"born_date\"])\n",
    "# bios_new['born_datetime'] = pd.to_datetime(bios_new['born_date'], erros='coerce') # tip to coerce your error gracefully\n",
    "# bios_new['born_datetime'] = pd.to_datetime(bios_new['born_date'], format='%Y-%m-%d') # tip we can specify our own format\n",
    "#IMP - Setting errors='coerce' will convert non-numeric values to NaN (Not a Number) without raising an error.\n",
    "bios_new.info()"
   ]
  },
  {
   "cell_type": "code",
   "execution_count": 47,
   "metadata": {},
   "outputs": [
    {
     "data": {
      "text/html": [
       "<div>\n",
       "<style scoped>\n",
       "    .dataframe tbody tr th:only-of-type {\n",
       "        vertical-align: middle;\n",
       "    }\n",
       "\n",
       "    .dataframe tbody tr th {\n",
       "        vertical-align: top;\n",
       "    }\n",
       "\n",
       "    .dataframe thead th {\n",
       "        text-align: right;\n",
       "    }\n",
       "</style>\n",
       "<table border=\"1\" class=\"dataframe\">\n",
       "  <thead>\n",
       "    <tr style=\"text-align: right;\">\n",
       "      <th></th>\n",
       "      <th>name</th>\n",
       "      <th>born_year</th>\n",
       "    </tr>\n",
       "  </thead>\n",
       "  <tbody>\n",
       "    <tr>\n",
       "      <th>0</th>\n",
       "      <td>Jean-François Blanchy</td>\n",
       "      <td>1886.0</td>\n",
       "    </tr>\n",
       "    <tr>\n",
       "      <th>1</th>\n",
       "      <td>Arnaud Boetsch</td>\n",
       "      <td>1969.0</td>\n",
       "    </tr>\n",
       "    <tr>\n",
       "      <th>2</th>\n",
       "      <td>Jean Borotra</td>\n",
       "      <td>1898.0</td>\n",
       "    </tr>\n",
       "    <tr>\n",
       "      <th>3</th>\n",
       "      <td>Jacques Brugnon</td>\n",
       "      <td>1895.0</td>\n",
       "    </tr>\n",
       "    <tr>\n",
       "      <th>4</th>\n",
       "      <td>Albert Canet</td>\n",
       "      <td>1878.0</td>\n",
       "    </tr>\n",
       "    <tr>\n",
       "      <th>...</th>\n",
       "      <td>...</td>\n",
       "      <td>...</td>\n",
       "    </tr>\n",
       "    <tr>\n",
       "      <th>145495</th>\n",
       "      <td>Polina Luchnikova</td>\n",
       "      <td>2002.0</td>\n",
       "    </tr>\n",
       "    <tr>\n",
       "      <th>145496</th>\n",
       "      <td>Valeriya Merkusheva</td>\n",
       "      <td>1999.0</td>\n",
       "    </tr>\n",
       "    <tr>\n",
       "      <th>145497</th>\n",
       "      <td>Yuliya Smirnova</td>\n",
       "      <td>1998.0</td>\n",
       "    </tr>\n",
       "    <tr>\n",
       "      <th>145498</th>\n",
       "      <td>André Foussard</td>\n",
       "      <td>1899.0</td>\n",
       "    </tr>\n",
       "    <tr>\n",
       "      <th>145499</th>\n",
       "      <td>Bill Phillips</td>\n",
       "      <td>1913.0</td>\n",
       "    </tr>\n",
       "  </tbody>\n",
       "</table>\n",
       "<p>145500 rows × 2 columns</p>\n",
       "</div>"
      ],
      "text/plain": [
       "                         name  born_year\n",
       "0       Jean-François Blanchy     1886.0\n",
       "1              Arnaud Boetsch     1969.0\n",
       "2                Jean Borotra     1898.0\n",
       "3             Jacques Brugnon     1895.0\n",
       "4                Albert Canet     1878.0\n",
       "...                       ...        ...\n",
       "145495      Polina Luchnikova     2002.0\n",
       "145496    Valeriya Merkusheva     1999.0\n",
       "145497        Yuliya Smirnova     1998.0\n",
       "145498         André Foussard     1899.0\n",
       "145499          Bill Phillips     1913.0\n",
       "\n",
       "[145500 rows x 2 columns]"
      ]
     },
     "execution_count": 47,
     "metadata": {},
     "output_type": "execute_result"
    }
   ],
   "source": [
    "bios_new['born_year'] = bios_new['born_datetime'].dt.year\n",
    "bios_new[['name','born_year']]"
   ]
  },
  {
   "cell_type": "code",
   "execution_count": 48,
   "metadata": {},
   "outputs": [],
   "source": [
    "bios_new.to_csv('MY-datas/bios_new.csv', index=False) #INFO - to not save an extra column of index"
   ]
  },
  {
   "cell_type": "code",
   "execution_count": 49,
   "metadata": {},
   "outputs": [],
   "source": [
    "bios_new.to_parquet('MY-datas/bios_new.parquet', index=False) #INFO - to not save an extra column of index"
   ]
  },
  {
   "cell_type": "markdown",
   "metadata": {},
   "source": [
    "- Adding Custom Columns"
   ]
  },
  {
   "cell_type": "code",
   "execution_count": 54,
   "metadata": {},
   "outputs": [],
   "source": [
    "bios['height_category'] = bios['height_cm'].apply(lambda x: 'Short' if x<165 else(\"Average\" if x <185 else 'Tall'))\n",
    "#NOTE lambda func"
   ]
  },
  {
   "cell_type": "code",
   "execution_count": 53,
   "metadata": {},
   "outputs": [
    {
     "data": {
      "text/html": [
       "<div>\n",
       "<style scoped>\n",
       "    .dataframe tbody tr th:only-of-type {\n",
       "        vertical-align: middle;\n",
       "    }\n",
       "\n",
       "    .dataframe tbody tr th {\n",
       "        vertical-align: top;\n",
       "    }\n",
       "\n",
       "    .dataframe thead th {\n",
       "        text-align: right;\n",
       "    }\n",
       "</style>\n",
       "<table border=\"1\" class=\"dataframe\">\n",
       "  <thead>\n",
       "    <tr style=\"text-align: right;\">\n",
       "      <th></th>\n",
       "      <th>name</th>\n",
       "      <th>height_category</th>\n",
       "    </tr>\n",
       "  </thead>\n",
       "  <tbody>\n",
       "    <tr>\n",
       "      <th>0</th>\n",
       "      <td>Jean-François Blanchy</td>\n",
       "      <td>Tall</td>\n",
       "    </tr>\n",
       "    <tr>\n",
       "      <th>1</th>\n",
       "      <td>Arnaud Boetsch</td>\n",
       "      <td>Average</td>\n",
       "    </tr>\n",
       "    <tr>\n",
       "      <th>2</th>\n",
       "      <td>Jean Borotra</td>\n",
       "      <td>Average</td>\n",
       "    </tr>\n",
       "    <tr>\n",
       "      <th>3</th>\n",
       "      <td>Jacques Brugnon</td>\n",
       "      <td>Average</td>\n",
       "    </tr>\n",
       "    <tr>\n",
       "      <th>4</th>\n",
       "      <td>Albert Canet</td>\n",
       "      <td>Tall</td>\n",
       "    </tr>\n",
       "    <tr>\n",
       "      <th>...</th>\n",
       "      <td>...</td>\n",
       "      <td>...</td>\n",
       "    </tr>\n",
       "    <tr>\n",
       "      <th>145495</th>\n",
       "      <td>Polina Luchnikova</td>\n",
       "      <td>Average</td>\n",
       "    </tr>\n",
       "    <tr>\n",
       "      <th>145496</th>\n",
       "      <td>Valeriya Merkusheva</td>\n",
       "      <td>Average</td>\n",
       "    </tr>\n",
       "    <tr>\n",
       "      <th>145497</th>\n",
       "      <td>Yuliya Smirnova</td>\n",
       "      <td>Short</td>\n",
       "    </tr>\n",
       "    <tr>\n",
       "      <th>145498</th>\n",
       "      <td>André Foussard</td>\n",
       "      <td>Average</td>\n",
       "    </tr>\n",
       "    <tr>\n",
       "      <th>145499</th>\n",
       "      <td>Bill Phillips</td>\n",
       "      <td>Tall</td>\n",
       "    </tr>\n",
       "  </tbody>\n",
       "</table>\n",
       "<p>145500 rows × 2 columns</p>\n",
       "</div>"
      ],
      "text/plain": [
       "                         name height_category\n",
       "0       Jean-François Blanchy            Tall\n",
       "1              Arnaud Boetsch         Average\n",
       "2                Jean Borotra         Average\n",
       "3             Jacques Brugnon         Average\n",
       "4                Albert Canet            Tall\n",
       "...                       ...             ...\n",
       "145495      Polina Luchnikova         Average\n",
       "145496    Valeriya Merkusheva         Average\n",
       "145497        Yuliya Smirnova           Short\n",
       "145498         André Foussard         Average\n",
       "145499          Bill Phillips            Tall\n",
       "\n",
       "[145500 rows x 2 columns]"
      ]
     },
     "execution_count": 53,
     "metadata": {},
     "output_type": "execute_result"
    }
   ],
   "source": [
    "bios[[\"name\", \"height_category\"]]"
   ]
  },
  {
   "cell_type": "code",
   "execution_count": 56,
   "metadata": {},
   "outputs": [],
   "source": [
    "#func here\n",
    "def categorize_athlete(row):\n",
    "    if row['height_cm'] < 175 and row['weight_kg']<70:\n",
    "        return 'LightWeight'\n",
    "    elif row['height_cm'] < 185 or row['weight_kg'] <= 80:\n",
    "        return 'MiddleWeight'\n",
    "    else: \n",
    "        return 'HeavyWeight'\n",
    "    \n",
    "bios['Category'] = bios.apply(categorize_athlete, axis = 1) #INFO axis = 1 is row, 0 for column"
   ]
  },
  {
   "cell_type": "code",
   "execution_count": 58,
   "metadata": {},
   "outputs": [
    {
     "data": {
      "text/html": [
       "<div>\n",
       "<style scoped>\n",
       "    .dataframe tbody tr th:only-of-type {\n",
       "        vertical-align: middle;\n",
       "    }\n",
       "\n",
       "    .dataframe tbody tr th {\n",
       "        vertical-align: top;\n",
       "    }\n",
       "\n",
       "    .dataframe thead th {\n",
       "        text-align: right;\n",
       "    }\n",
       "</style>\n",
       "<table border=\"1\" class=\"dataframe\">\n",
       "  <thead>\n",
       "    <tr style=\"text-align: right;\">\n",
       "      <th></th>\n",
       "      <th>name</th>\n",
       "      <th>Category</th>\n",
       "    </tr>\n",
       "  </thead>\n",
       "  <tbody>\n",
       "    <tr>\n",
       "      <th>0</th>\n",
       "      <td>Jean-François Blanchy</td>\n",
       "      <td>HeavyWeight</td>\n",
       "    </tr>\n",
       "    <tr>\n",
       "      <th>1</th>\n",
       "      <td>Arnaud Boetsch</td>\n",
       "      <td>MiddleWeight</td>\n",
       "    </tr>\n",
       "    <tr>\n",
       "      <th>2</th>\n",
       "      <td>Jean Borotra</td>\n",
       "      <td>MiddleWeight</td>\n",
       "    </tr>\n",
       "    <tr>\n",
       "      <th>3</th>\n",
       "      <td>Jacques Brugnon</td>\n",
       "      <td>LightWeight</td>\n",
       "    </tr>\n",
       "    <tr>\n",
       "      <th>4</th>\n",
       "      <td>Albert Canet</td>\n",
       "      <td>HeavyWeight</td>\n",
       "    </tr>\n",
       "    <tr>\n",
       "      <th>...</th>\n",
       "      <td>...</td>\n",
       "      <td>...</td>\n",
       "    </tr>\n",
       "    <tr>\n",
       "      <th>145495</th>\n",
       "      <td>Polina Luchnikova</td>\n",
       "      <td>LightWeight</td>\n",
       "    </tr>\n",
       "    <tr>\n",
       "      <th>145496</th>\n",
       "      <td>Valeriya Merkusheva</td>\n",
       "      <td>LightWeight</td>\n",
       "    </tr>\n",
       "    <tr>\n",
       "      <th>145497</th>\n",
       "      <td>Yuliya Smirnova</td>\n",
       "      <td>LightWeight</td>\n",
       "    </tr>\n",
       "    <tr>\n",
       "      <th>145498</th>\n",
       "      <td>André Foussard</td>\n",
       "      <td>MiddleWeight</td>\n",
       "    </tr>\n",
       "    <tr>\n",
       "      <th>145499</th>\n",
       "      <td>Bill Phillips</td>\n",
       "      <td>HeavyWeight</td>\n",
       "    </tr>\n",
       "  </tbody>\n",
       "</table>\n",
       "<p>145500 rows × 2 columns</p>\n",
       "</div>"
      ],
      "text/plain": [
       "                         name      Category\n",
       "0       Jean-François Blanchy   HeavyWeight\n",
       "1              Arnaud Boetsch  MiddleWeight\n",
       "2                Jean Borotra  MiddleWeight\n",
       "3             Jacques Brugnon   LightWeight\n",
       "4                Albert Canet   HeavyWeight\n",
       "...                       ...           ...\n",
       "145495      Polina Luchnikova   LightWeight\n",
       "145496    Valeriya Merkusheva   LightWeight\n",
       "145497        Yuliya Smirnova   LightWeight\n",
       "145498         André Foussard  MiddleWeight\n",
       "145499          Bill Phillips   HeavyWeight\n",
       "\n",
       "[145500 rows x 2 columns]"
      ]
     },
     "execution_count": 58,
     "metadata": {},
     "output_type": "execute_result"
    }
   ],
   "source": [
    "bios[[\"name\", \"Category\"]]"
   ]
  }
 ],
 "metadata": {
  "kernelspec": {
   "display_name": ".venv",
   "language": "python",
   "name": "python3"
  },
  "language_info": {
   "codemirror_mode": {
    "name": "ipython",
    "version": 3
   },
   "file_extension": ".py",
   "mimetype": "text/x-python",
   "name": "python",
   "nbconvert_exporter": "python",
   "pygments_lexer": "ipython3",
   "version": "3.13.2"
  }
 },
 "nbformat": 4,
 "nbformat_minor": 2
}
