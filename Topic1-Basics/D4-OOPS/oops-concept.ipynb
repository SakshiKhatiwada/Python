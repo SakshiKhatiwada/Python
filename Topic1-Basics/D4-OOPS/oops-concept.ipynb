{
 "cells": [
  {
   "cell_type": "markdown",
   "id": "8bee6865",
   "metadata": {},
   "source": [
    "## Class"
   ]
  },
  {
   "cell_type": "code",
   "execution_count": 50,
   "id": "5aa0e7fa",
   "metadata": {},
   "outputs": [],
   "source": [
    "class Employee:\n",
    "    'This is a common base class for all employees'\n",
    "    \n",
    "    emp_count= 0\n",
    "    __secret_counter = 0 # double underscore = private variable\n",
    "    \n",
    "    def __init__(self, name, salary, age):\n",
    "        self.name = name\n",
    "        self.salary = salary\n",
    "        self.age = age\n",
    "        Employee.emp_count +=1\n",
    "        Employee.__secret_counter +=1\n",
    "        print(\"Employee Created!\")\n",
    "        \n",
    "    def displayCount(self):\n",
    "        print (\"Total Employee %d\" % Employee.emp_count)\n",
    "\n",
    "    def displayEmployee(self):\n",
    "        print (\"Name : \", self.name,  \", Salary: \", self.salary)\n",
    "        \n",
    "    def __del__(self):\n",
    "        classname = self.__class__.__name__\n",
    "        print(classname, \"destroyed\")\n",
    "        Employee.emp_count -= 1"
   ]
  },
  {
   "cell_type": "code",
   "execution_count": 51,
   "id": "515d8c79",
   "metadata": {},
   "outputs": [
    {
     "name": "stdout",
     "output_type": "stream",
     "text": [
      "This is a common base class for all employees\n",
      "Employee\n",
      "__main__\n",
      "(<class 'object'>,)\n",
      "{'__module__': '__main__', '__doc__': 'This is a common base class for all employees', 'emp_count': 0, '_Employee__secret_counter': 0, '__init__': <function Employee.__init__ at 0x7319d33959e0>, 'displayCount': <function Employee.displayCount at 0x7319d3395d00>, 'displayEmployee': <function Employee.displayEmployee at 0x7319d3395c60>, '__del__': <function Employee.__del__ at 0x7319d3395120>, '__dict__': <attribute '__dict__' of 'Employee' objects>, '__weakref__': <attribute '__weakref__' of 'Employee' objects>}\n"
     ]
    }
   ],
   "source": [
    "# Build-in Class Attributes\n",
    "print(Employee.__doc__)\n",
    "print(Employee.__name__)\n",
    "print(Employee.__module__)\n",
    "print(Employee.__bases__)\n",
    "print(Employee.__dict__)"
   ]
  },
  {
   "cell_type": "code",
   "execution_count": 54,
   "id": "4e302889",
   "metadata": {},
   "outputs": [
    {
     "name": "stdout",
     "output_type": "stream",
     "text": [
      "Employee Created!\n",
      "Employee destroyed\n",
      "0\n",
      "3\n"
     ]
    }
   ],
   "source": [
    "emp1 = Employee(\"Sakshi\", 1000000, 20)\n",
    "\n",
    "print (Employee.emp_count)\n",
    "# print(Employee.__secret_counter) # ERR AttributeError\n",
    "# to access\n",
    "# print(emp1._Employee__secret_counter) # INFO Name Mangling Access => way to access a private variable of a class\n",
    "print(emp1._Employee__secret_counter)"
   ]
  },
  {
   "cell_type": "markdown",
   "id": "dd2c1cf6",
   "metadata": {},
   "source": [
    "## Class Methods"
   ]
  },
  {
   "cell_type": "code",
   "execution_count": 65,
   "id": "4c35d52a",
   "metadata": {},
   "outputs": [
    {
     "name": "stdout",
     "output_type": "stream",
     "text": [
      "4\n"
     ]
    }
   ],
   "source": [
    "class Employee:\n",
    "    'This is a common base class for all employees'\n",
    "    \n",
    "    emp_count= 0\n",
    "    \n",
    "    def __init__(self, name, salary):\n",
    "        self.name = name\n",
    "        self.salary = salary\n",
    "        Employee.emp_count +=1\n",
    "        \n",
    "    @classmethod   \n",
    "    def showCount(cls):\n",
    "        print(cls.emp_count) \n",
    "    \n",
    "    @classmethod\n",
    "    def newEmp(cls, name, age):\n",
    "        return cls(name,age)\n",
    "        \n",
    "    # counter = classmethod(showCount)\n",
    "    \n",
    "e1 = Employee(\"Sass\", 20)\n",
    "e2 = Employee(\"Bini\", 20)\n",
    "e3 = Employee(\"Bibi\", 20)\n",
    "e4 = Employee.newEmp(\"Dudu\", 20)\n",
    "Employee.showCount()"
   ]
  }
 ],
 "metadata": {
  "kernelspec": {
   "display_name": "sklearn-env",
   "language": "python",
   "name": "python3"
  },
  "language_info": {
   "codemirror_mode": {
    "name": "ipython",
    "version": 3
   },
   "file_extension": ".py",
   "mimetype": "text/x-python",
   "name": "python",
   "nbconvert_exporter": "python",
   "pygments_lexer": "ipython3",
   "version": "3.12.3"
  }
 },
 "nbformat": 4,
 "nbformat_minor": 5
}
